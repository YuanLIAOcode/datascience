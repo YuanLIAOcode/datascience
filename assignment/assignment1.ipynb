{
 "cells": [
  {
   "cell_type": "markdown",
   "metadata": {},
   "source": [
    "# Assignment 1 : Classification for network intrusion detection"
   ]
  },
  {
   "cell_type": "markdown",
   "metadata": {},
   "source": [
    "The goal of this assignment is to build the most efficient *Naive Bayes classifier* for **network intrusion detection**. The data set considered in this case is [KDD Cup 1999 Data](http://kdd.ics.uci.edu/databases/kddcup99/kddcup99.html) from *The Third International Knowledge Discovery and Data Mining Tools Competition*."
   ]
  },
  {
   "cell_type": "markdown",
   "metadata": {},
   "source": [
    "*Pay attention that this notebook should not be completed in a single pass but instead in iterative steps. My advice is to train (and evaluate) a complete a classifier as quickly as possible without spending to much time in the exploratory and preprocessing stages. Then, improve incrementally the models (with respect to the evaluation metrics) by developing the previous stages.*"
   ]
  },
  {
   "cell_type": "markdown",
   "metadata": {},
   "source": [
    "Complete this cell with the group composition :"
   ]
  },
  {
   "cell_type": "markdown",
   "metadata": {},
   "source": [
    "## Imports\n",
    "\n",
    "The following cell contains the only allowed modules for this assingment. "
   ]
  },
  {
   "cell_type": "code",
   "execution_count": null,
   "metadata": {
    "collapsed": true,
    "scrolled": true
   },
   "outputs": [],
   "source": [
    "import numpy as np\n",
    "import pandas\n",
    "import matplotlib.pyplot as plt\n",
    "\n",
    "from sklearn import preprocessing\n",
    "import sklearn.naive_bayes as naive_bayes\n",
    "import sklearn.model_selection as model_selection\n",
    "from sklearn.ensemble import VotingClassifier\n",
    "import sklearn.metrics\n",
    "\n",
    "from scipy import stats\n",
    "\n",
    "%matplotlib notebook"
   ]
  },
  {
   "cell_type": "markdown",
   "metadata": {},
   "source": [
    "## Get the data"
   ]
  },
  {
   "cell_type": "markdown",
   "metadata": {},
   "source": [
    "Download kddcup.data_10_percent.gz from http://kdd.ics.uci.edu/databases/kddcup99/kddcup99.html. See http://kdd.ics.uci.edu/databases/kddcup99/task.html for more details on this dataset."
   ]
  },
  {
   "cell_type": "markdown",
   "metadata": {},
   "source": [
    "Complete the following cell so that `file_name` is initialized. (do not remove anything from the provided cells)"
   ]
  },
  {
   "cell_type": "code",
   "execution_count": null,
   "metadata": {
    "collapsed": true,
    "scrolled": true
   },
   "outputs": [],
   "source": [
    "attributes = np.array(['duration', 'protocol_type', 'service', 'flag', 'src_bytes', 'dst_bytes',\n",
    "              'land', 'wrong_fragment', 'urgent', 'hot', 'num_failed_logins', 'logged_in',\n",
    "              'num_compromised', 'root_shell', 'su_attempted', 'num_root', 'num_file_creations',\n",
    "              'num_shells', 'num_access_files', 'num_outbound_cmds', 'is_host_login',\n",
    "              'is_guest_login', 'count', 'srv_count', 'serror_rate', 'srv_serror_rate',\n",
    "              'rerror_rate', 'srv_rerror_rate', 'same_srv_rate', 'diff_srv_rate', 'srv_diff_host_rate',\n",
    "              'dst_host_count', 'dst_host_srv_count', 'dst_host_same_srv_rate', 'dst_host_diff_srv_rate',\n",
    "              'dst_host_same_src_port_rate', 'dst_host_srv_diff_host_rate', 'dst_host_serror_rate',\n",
    "              'dst_host_srv_serror_rate', 'dst_host_rerror_rate', 'dst_host_srv_rerror_rate'])\n",
    "\n",
    "data_types = np.array(['numerical', 'categorical', 'categorical', 'categorical', 'numerical', 'numerical',\n",
    "                       'categorical','numerical', 'numerical', 'numerical', 'numerical', 'categorical',\n",
    "                       'numerical', 'numerical', 'numerical', 'numerical', 'numerical', 'numerical',\n",
    "                       'numerical', 'numerical', 'categorical', 'categorical', 'numerical', 'numerical',\n",
    "                       'numerical', 'numerical', 'numerical', 'numerical', 'numerical', 'numerical',\n",
    "                       'numerical', 'numerical', 'numerical', 'numerical', 'numerical', 'numerical',\n",
    "                       'numerical', 'numerical', 'numerical', 'numerical', 'numerical'])\n",
    "\n",
    "file_name = ''\n",
    "\n",
    "columns = np.concatenate((attributes, ['label']))\n",
    "df = pandas.read_csv(file_name, names=columns)"
   ]
  },
  {
   "cell_type": "markdown",
   "metadata": {},
   "source": [
    "Reorder the columns of the data frame so that numerical columns appear first, then the categorical columns, and at the end the label. For this purpose, use [pandas.DataFrame.reindex](https://pandas.pydata.org/pandas-docs/stable/generated/pandas.DataFrame.reindex.html)."
   ]
  },
  {
   "cell_type": "code",
   "execution_count": null,
   "metadata": {
    "collapsed": true,
    "scrolled": false
   },
   "outputs": [],
   "source": [
    "# Write your code here"
   ]
  },
  {
   "cell_type": "markdown",
   "metadata": {},
   "source": [
    "In this classifier, we only consider the five classes DOS, R2L, U2R, probing and normal. Based on http://kdd.ics.uci.edu/databases/kddcup99/training_attack_types modify the data frame accordingly so that only these 5 values appear in the label column. For this purpose, you should use methods from [pandas.Series](https://pandas.pydata.org/pandas-docs/stable/generated/pandas.Series.html). Recall that each column in a *DataFrame* is a *Series*. "
   ]
  },
  {
   "cell_type": "code",
   "execution_count": null,
   "metadata": {
    "collapsed": true,
    "scrolled": true
   },
   "outputs": [],
   "source": [
    "attacks = {\n",
    "'back.' : 'dos',\n",
    "'buffer_overflow.' : 'u2r',\n",
    "'ftp_write.' : 'r2l',\n",
    "'guess_passwd.' : 'r2l',\n",
    "'imap.' : 'r2l',\n",
    "'ipsweep.' : 'probe',\n",
    "'land.' : 'dos',\n",
    "'loadmodule.' : 'u2r',\n",
    "'multihop.' : 'r2l',\n",
    "'neptune.' : 'dos',\n",
    "'nmap.' : 'probe',\n",
    "'perl.' : 'u2r',\n",
    "'phf.' : 'r2l',\n",
    "'pod.' : 'dos',\n",
    "'portsweep.' : 'probe',\n",
    "'rootkit.' : 'u2r',\n",
    "'satan.' : 'probe',\n",
    "'smurf.' : 'dos',\n",
    "'spy.' : 'r2l',\n",
    "'teardrop.' : 'dos',\n",
    "'warezclient.' : 'r2l',\n",
    "'warezmaster.' : 'r2l',\n",
    "'normal.' : 'normal'\n",
    "}\n",
    "\n",
    "# Write your code here"
   ]
  },
  {
   "cell_type": "markdown",
   "metadata": {},
   "source": [
    "Save the *label* column in a variable named `target` (for later use) and [drop](https://pandas.pydata.org/pandas-docs/stable/generated/pandas.DataFrame.drop.html) it from the data frame."
   ]
  },
  {
   "cell_type": "code",
   "execution_count": null,
   "metadata": {
    "collapsed": true,
    "scrolled": true
   },
   "outputs": [],
   "source": [
    "# Write your code here"
   ]
  },
  {
   "cell_type": "markdown",
   "metadata": {},
   "source": [
    "## Explore the data"
   ]
  },
  {
   "cell_type": "markdown",
   "metadata": {},
   "source": [
    "With the help of methods from [pandas.Series](https://pandas.pydata.org/pandas-docs/stable/generated/pandas.Series.html), print the different values of the `label` column along with their respective absolute frequency."
   ]
  },
  {
   "cell_type": "code",
   "execution_count": null,
   "metadata": {
    "collapsed": true,
    "scrolled": true
   },
   "outputs": [],
   "source": [
    "# Write your code here"
   ]
  },
  {
   "cell_type": "markdown",
   "metadata": {},
   "source": [
    "With the help of [matplotlib](https://matplotlib.org/) create an histogram of the relative frequencies of values in this column. Take care on the presentation (for example : titles, scales, colors,...)."
   ]
  },
  {
   "cell_type": "code",
   "execution_count": null,
   "metadata": {
    "collapsed": true,
    "scrolled": true
   },
   "outputs": [],
   "source": [
    "# Write your code here"
   ]
  },
  {
   "cell_type": "markdown",
   "metadata": {},
   "source": [
    "Add figures and statistics that could help to get a better understanding of the data set."
   ]
  },
  {
   "cell_type": "code",
   "execution_count": null,
   "metadata": {
    "collapsed": true
   },
   "outputs": [],
   "source": [
    "# Write your code here"
   ]
  },
  {
   "cell_type": "markdown",
   "metadata": {},
   "source": [
    "## Data Preprocessing"
   ]
  },
  {
   "cell_type": "markdown",
   "metadata": {},
   "source": [
    "Use [pandas.get_dummies](https://pandas.pydata.org/pandas-docs/stable/generated/pandas.get_dummies.html) to convert categorical attributes so that they can be used to train *Naive Bayes* model."
   ]
  },
  {
   "cell_type": "code",
   "execution_count": null,
   "metadata": {
    "collapsed": true
   },
   "outputs": [],
   "source": [
    "# Write your code here"
   ]
  },
  {
   "cell_type": "markdown",
   "metadata": {},
   "source": [
    "In this first assignment, we consider a simple evaluation model that require a training set and a test set comprising respectively 70% and 30% of the data set. With the help of [model_selection.train_test_split](http://scikit-learn.org/stable/modules/generated/sklearn.model_selection.train_test_split.html), create two pandas.Index randomly from the data frame index to define these two parts of the dataset. The DataFrame *index* can be retrieved with its `index` attribute."
   ]
  },
  {
   "cell_type": "code",
   "execution_count": null,
   "metadata": {
    "collapsed": true,
    "scrolled": true
   },
   "outputs": [],
   "source": [
    "# Write your code here "
   ]
  },
  {
   "cell_type": "markdown",
   "metadata": {},
   "source": [
    "Apply the required preprocessing on the categorical and numerical features. For example, you can use tools from the [preprocessing](http://scikit-learn.org/stable/modules/preprocessing.html) module and traditional math functions from [numpy](https://docs.scipy.org/doc/numpy-1.13.0/reference/routines.math.html). Both the training set and the test set have to be preprocessed. However, ensure that the information provided by the test set is never used to train the model. In particular, pay attention to the difference between `fit_transform` and `transform` methods."
   ]
  },
  {
   "cell_type": "code",
   "execution_count": null,
   "metadata": {
    "collapsed": true,
    "scrolled": true
   },
   "outputs": [],
   "source": [
    "# Write your code here "
   ]
  },
  {
   "cell_type": "markdown",
   "metadata": {},
   "source": [
    "## Modeling"
   ]
  },
  {
   "cell_type": "markdown",
   "metadata": {},
   "source": [
    "Build a first *Naive Bayes* classifier (named `clf1`) that only use the numerical attributes for the prediction."
   ]
  },
  {
   "cell_type": "code",
   "execution_count": null,
   "metadata": {
    "collapsed": true,
    "scrolled": true
   },
   "outputs": [],
   "source": [
    "# Write your code here"
   ]
  },
  {
   "cell_type": "markdown",
   "metadata": {},
   "source": [
    "Build a second *Naive Bayes* classifier (names `clf2`) that only use the categorical attributes for the prediction."
   ]
  },
  {
   "cell_type": "code",
   "execution_count": null,
   "metadata": {
    "collapsed": true,
    "scrolled": true
   },
   "outputs": [],
   "source": [
    "# Write your code here"
   ]
  },
  {
   "cell_type": "markdown",
   "metadata": {},
   "source": [
    "Build a third model (named `clf3`) that combine these two classifiers by completing the following class definition."
   ]
  },
  {
   "cell_type": "code",
   "execution_count": null,
   "metadata": {
    "collapsed": true,
    "scrolled": true
   },
   "outputs": [],
   "source": [
    "# Complete the following class definition\n",
    "\n",
    "class CombinedClassifier:\n",
    "    def __init__(self, clf1, clf1_features, clf2, clf2_features):\n",
    "        self.clf1 = clf1\n",
    "        self.clf2 = clf2\n",
    "        self.clf1_features = clf1_features\n",
    "        self.clf2_features = clf2_features\n",
    "        \n",
    "    def predict(self, X): pass\n",
    "    \n",
    "    def predict_proba(self, X): pass\n",
    "\n",
    "clf3 = CombinedClassifier(clf1, numerical, clf2, dummy_categorical)"
   ]
  },
  {
   "cell_type": "markdown",
   "metadata": {},
   "source": [
    "## Evaluating Models"
   ]
  },
  {
   "cell_type": "markdown",
   "metadata": {},
   "source": [
    "A powerful evaluation tool for classification the so-called **confusion matrix** denoted by $C \\in \\mathbb{R}^{d \\times d}$. Each element of this matrix $C[x, y]$ is defined as the fraction (or number) of items of class $x$ which is labeled as $y$ by the classification model. Hence, in the case of a perfect classifier, the diagonal values $C[i, i]$ should be equal to 1 and other values $C[i, j]$, with $i \\neq j$, that represent the *confused* classes should be equal to 0.\n",
    "\n",
    "Use the [confusion_matrix]() function to compute this matrix for `clf1`, `clf2` and `clf3`. Then create a figure to represent graphically (vertically in the same figure) these three matrices (see, [this example](http://scikit-learn.org/stable/auto_examples/model_selection/plot_confusion_matrix.html))."
   ]
  },
  {
   "cell_type": "code",
   "execution_count": null,
   "metadata": {
    "collapsed": true,
    "scrolled": true
   },
   "outputs": [],
   "source": [
    "# Write your code here"
   ]
  },
  {
   "cell_type": "markdown",
   "metadata": {},
   "source": [
    "With the help of [metrics](http://scikit-learn.org/stable/modules/classes.html#module-sklearn.metrics), compute the *precision* and *recall* for each class (not the average!) and each classifier."
   ]
  },
  {
   "cell_type": "code",
   "execution_count": null,
   "metadata": {
    "collapsed": true
   },
   "outputs": [],
   "source": [
    "# Write your code here"
   ]
  },
  {
   "cell_type": "markdown",
   "metadata": {},
   "source": [
    "## Conclusion\n",
    "\n",
    "Write a concise conclusion on this analysis. Among others, discuss the strengths and weaknesses of this approach."
   ]
  }
 ],
 "metadata": {
  "kernelspec": {
   "display_name": "Python 3",
   "language": "python",
   "name": "python3"
  },
  "language_info": {
   "codemirror_mode": {
    "name": "ipython",
    "version": 3
   },
   "file_extension": ".py",
   "mimetype": "text/x-python",
   "name": "python",
   "nbconvert_exporter": "python",
   "pygments_lexer": "ipython3",
   "version": "3.6.1"
  }
 },
 "nbformat": 4,
 "nbformat_minor": 2
}
