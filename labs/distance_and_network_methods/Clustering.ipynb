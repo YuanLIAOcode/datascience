{
 "cells": [
  {
   "cell_type": "markdown",
   "metadata": {},
   "source": [
    "# Clustering"
   ]
  },
  {
   "cell_type": "markdown",
   "metadata": {},
   "source": [
    "Let us consider the data set from the *National Health and Nutrition Examination Survey* (see, `nhanes.csv` in the datasets). Present this data set in a scatter plot by considering attributes weight and height. Color each point with respect to the *gender* attribute."
   ]
  },
  {
   "cell_type": "code",
   "execution_count": null,
   "metadata": {
    "collapsed": true
   },
   "outputs": [],
   "source": [
    "# ..."
   ]
  },
  {
   "cell_type": "markdown",
   "metadata": {},
   "source": [
    "Apply the [k-means clustering algorithm](http://scikit-learn.org/stable/modules/generated/sklearn.cluster.KMeans.html) (with $k = 2$) on this data set and evaluate the accuracy of each cluster (*i.e.* the respective proportion of women and men). Consider only attributes weight and height for measuring the similarity and use the $l_2$ norm."
   ]
  },
  {
   "cell_type": "code",
   "execution_count": null,
   "metadata": {
    "collapsed": true
   },
   "outputs": [],
   "source": [
    "# ..."
   ]
  },
  {
   "cell_type": "markdown",
   "metadata": {},
   "source": [
    "Train a logistic regression classifier for this data set. Consider the gender as the target attribute. Compare the accuracy score obtained with the k-means."
   ]
  },
  {
   "cell_type": "code",
   "execution_count": null,
   "metadata": {
    "collapsed": true
   },
   "outputs": [],
   "source": [
    "# ..."
   ]
  },
  {
   "cell_type": "markdown",
   "metadata": {},
   "source": [
    "Apply the k-means algorithm on the data set with the complete set of attributes (age, weight, height, etc.). Determine the most adequate value of $k$."
   ]
  },
  {
   "cell_type": "code",
   "execution_count": null,
   "metadata": {
    "collapsed": true
   },
   "outputs": [],
   "source": [
    "# ..."
   ]
  },
  {
   "cell_type": "markdown",
   "metadata": {},
   "source": [
    "Based on this value of $k$, print the centroid of each cluster to describe the $k$ populations found in this data set."
   ]
  },
  {
   "cell_type": "code",
   "execution_count": null,
   "metadata": {
    "collapsed": true
   },
   "outputs": [],
   "source": [
    "# ..."
   ]
  },
  {
   "cell_type": "markdown",
   "metadata": {},
   "source": [
    "Clustering can be used for **data reduction** for training models such as classifiers or regressors. Use k-means to reduce the data set to 100 individuals (i.e., centroids). Use the resulting centroids to train a [k-nearest neighbors classifier](http://scikit-learn.org/stable/modules/generated/sklearn.neighbors.KNeighborsClassifier.html), where the class of each centroid is determined with respect to a majority rule. Compare, *in terms of accuracy and computation time*, this classifier to a second k-NN classifier build with a training set comprising 75% of the data set (randomly selected). The comparison has to be performed with respect to the test set (the remaining 25% of the data set) : the call to `predict` for the computation time and the result of the same function for the accuracy score."
   ]
  },
  {
   "cell_type": "code",
   "execution_count": null,
   "metadata": {
    "collapsed": true
   },
   "outputs": [],
   "source": [
    "# ..."
   ]
  },
  {
   "cell_type": "markdown",
   "metadata": {},
   "source": [
    "A similar approach consists of training several models over smaller subsets of data. Use k-means to cluster the data set into 4 clusters. Use them to train 4 different [logistic regression classifiers](http://scikit-learn.org/stable/modules/generated/sklearn.linear_model.LogisticRegression.html). One for each subset (cluster) of the dataset. Then, combine these classifiers with the help of [VotingClassifier](http://scikit-learn.org/stable/modules/generated/sklearn.ensemble.VotingClassifier.html). Compare the performance by randomly dividing the dataset (75% for the training set and 25% for the test set)."
   ]
  },
  {
   "cell_type": "code",
   "execution_count": null,
   "metadata": {
    "collapsed": true
   },
   "outputs": [],
   "source": [
    "# ..."
   ]
  }
 ],
 "metadata": {
  "kernelspec": {
   "display_name": "Python 3",
   "language": "python",
   "name": "python3"
  },
  "language_info": {
   "codemirror_mode": {
    "name": "ipython",
    "version": 3
   },
   "file_extension": ".py",
   "mimetype": "text/x-python",
   "name": "python",
   "nbconvert_exporter": "python",
   "pygments_lexer": "ipython3",
   "version": "3.6.2"
  }
 },
 "nbformat": 4,
 "nbformat_minor": 2
}
