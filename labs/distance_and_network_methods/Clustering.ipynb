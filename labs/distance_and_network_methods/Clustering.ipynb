{
 "cells": [
  {
   "cell_type": "code",
   "execution_count": null,
   "metadata": {
    "collapsed": true
   },
   "outputs": [],
   "source": [
    "import matplotlib.pyplot as plt\n",
    "%matplotlib notebook\n",
    "\n",
    "import pandas\n",
    "import numpy as np\n",
    "\n",
    "from sklearn.cluster import KMeans\n",
    "from sklearn import metrics\n",
    "\n",
    "from sklearn.linear_model import LogisticRegression\n",
    "from sklearn.model_selection import train_test_split"
   ]
  },
  {
   "cell_type": "markdown",
   "metadata": {},
   "source": [
    "# Clustering"
   ]
  },
  {
   "cell_type": "markdown",
   "metadata": {},
   "source": [
    "Let us consider the data set from the *National Health and Nutrition Examination Survey* (see, `nhanes.csv` in `/datasets`). Use [train_test_split](sklearn.model_selection.train_test_split) so that the training set comprises 20% of the data set. Present the training set in a scatter plot by considering attributes weight and height. Color each point with respect to the *gender* attribute."
   ]
  },
  {
   "cell_type": "code",
   "execution_count": null,
   "metadata": {
    "scrolled": true
   },
   "outputs": [],
   "source": [
    "# ..."
   ]
  },
  {
   "cell_type": "markdown",
   "metadata": {},
   "source": [
    "Apply the [k-means clustering algorithm](http://scikit-learn.org/stable/modules/generated/sklearn.cluster.KMeans.html) (with $k = 2$ and 30 initializations) on this data set.  Consider only attributes weight and height and use the $l_2$ norm for measuring the similarity. Evaluate the [accuracy](http://scikit-learn.org/stable/modules/generated/sklearn.metrics.accuracy_score.html) of this model to predict the gender of the remaining 80% of the dataset."
   ]
  },
  {
   "cell_type": "code",
   "execution_count": null,
   "metadata": {},
   "outputs": [],
   "source": [
    "# ..."
   ]
  },
  {
   "cell_type": "markdown",
   "metadata": {},
   "source": [
    "Train a logistic regression classifier for this data set. Consider the gender as the target attribute and use the same data for `fit` and `predict`. Compare the accuracy score obtained with the k-means."
   ]
  },
  {
   "cell_type": "code",
   "execution_count": null,
   "metadata": {},
   "outputs": [],
   "source": [
    "# ..."
   ]
  },
  {
   "cell_type": "markdown",
   "metadata": {},
   "source": [
    "Apply the k-means algorithm on the data set with the complete set of attributes (age, weight, height, etc.). Determine the most adequate value of $k \\in \\{2, 3, \\ldots, 10\\}$ by plotting the [silouhette score](http://scikit-learn.org/stable/modules/generated/sklearn.metrics.silhouette_score.html#sklearn.metrics.silhouette_score) and error function."
   ]
  },
  {
   "cell_type": "code",
   "execution_count": null,
   "metadata": {},
   "outputs": [],
   "source": [
    "# ..."
   ]
  },
  {
   "cell_type": "markdown",
   "metadata": {},
   "source": [
    "Based on this value of $k$, print the centroid of each cluster to describe the $k$ populations found in this data set."
   ]
  },
  {
   "cell_type": "code",
   "execution_count": null,
   "metadata": {
    "collapsed": true
   },
   "outputs": [],
   "source": [
    "# ..."
   ]
  },
  {
   "cell_type": "markdown",
   "metadata": {},
   "source": [
    "Clustering can be used for **data reduction** for training models such as classifiers or regressors. Use k-means to reduce the data set to 100 individuals (i.e., centroids). Use the resulting centroids to train a [k-nearest neighbors classifier](http://scikit-learn.org/stable/modules/generated/sklearn.neighbors.KNeighborsClassifier.html), where the class of each centroid is determined with respect to a majority rule. Compare, *in terms of accuracy and computation time*, this classifier to a second k-NN classifier build with a training set comprising 75% of the data set (randomly selected). The comparison has to be performed with respect to the test set (the remaining 25% of the data set) : the call to `predict` for the computation time and the result of the same function for the accuracy score."
   ]
  },
  {
   "cell_type": "code",
   "execution_count": null,
   "metadata": {
    "collapsed": true
   },
   "outputs": [],
   "source": [
    "# ..."
   ]
  },
  {
   "cell_type": "markdown",
   "metadata": {},
   "source": [
    "A similar approach consists of training several models over smaller subsets of data. Use k-means to cluster the data set into 4 clusters. Use them to train 4 different [logistic regression classifiers](http://scikit-learn.org/stable/modules/generated/sklearn.linear_model.LogisticRegression.html). One for each subset (cluster) of the dataset. Then, combine these classifiers with the help of [VotingClassifier](http://scikit-learn.org/stable/modules/generated/sklearn.ensemble.VotingClassifier.html). Compare the performance by randomly dividing the dataset (75% for the training set and 25% for the test set)."
   ]
  },
  {
   "cell_type": "code",
   "execution_count": null,
   "metadata": {
    "collapsed": true
   },
   "outputs": [],
   "source": [
    "# ..."
   ]
  }
 ],
 "metadata": {
  "kernelspec": {
   "display_name": "Python 3",
   "language": "python",
   "name": "python3"
  },
  "language_info": {
   "codemirror_mode": {
    "name": "ipython",
    "version": 3
   },
   "file_extension": ".py",
   "mimetype": "text/x-python",
   "name": "python",
   "nbconvert_exporter": "python",
   "pygments_lexer": "ipython3",
   "version": "3.6.2"
  }
 },
 "nbformat": 4,
 "nbformat_minor": 2
}
