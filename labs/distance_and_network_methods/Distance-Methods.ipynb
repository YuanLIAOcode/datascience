{
 "cells": [
  {
   "cell_type": "markdown",
   "metadata": {},
   "source": [
    "$\\def\\*#1{\\mathbf{#1}}$\n",
    "$\\DeclareMathOperator*{\\argmax}{arg\\,max}$\n",
    "\n",
    "# Distance Methods"
   ]
  },
  {
   "cell_type": "code",
   "execution_count": null,
   "metadata": {
    "collapsed": true
   },
   "outputs": [],
   "source": [
    "import numpy as np\n",
    "\n",
    "import matplotlib.pyplot as plt\n",
    "%matplotlib notebook\n",
    "\n",
    "from scipy.spatial.distance import pdist, squareform"
   ]
  },
  {
   "cell_type": "markdown",
   "metadata": {},
   "source": [
    "## Distance\n",
    "\n",
    "Let us consider the following dataset :\n",
    "\n",
    "| $\\*x_i$      |   Age ($X_1$)     |   Income ($X_2$) | \n",
    "|------------|-------------------|------------------| \n",
    "| $\\*x_1$      |     12            |     300          | \n",
    "| $\\*x_2$      |     14            |     500          | \n",
    "| $\\*x_3$      |     18            |     1000         | \n",
    "| $\\*x_4$      |     23            |     2000         | \n",
    "| $\\*x_5$      |     27            |     3500         | \n",
    "| $\\*x_6$      |     28            |     4000         | \n",
    "| $\\*x_7$      |     34            |     4300         | \n",
    "| $\\*x_8$      |     37            |     6000         | \n",
    "| $\\*x_9$      |     39            |     2500         | \n",
    "| $\\*x_{10}$   |     40            |     2700         | \n",
    "\n",
    "\n",
    "In methods like classification and clustering, we have to compute de similarity (or  dissimilarity) between pairs of observations. For example, we could consider the euclidean distance to measure the dissimilarity between each pair of instances in this dataset. This leads to compute the so-called **distance matrix**.\n",
    "\n",
    "**Exercise** - Declare this data set as a Pandas DataFrame. Based on [pdist](http://docs.scipy.org/doc/scipy/reference/generated/scipy.spatial.distance.pdist.html) and [squareform](http://docs.scipy.org/doc/scipy/reference/generated/scipy.spatial.distance.squareform.html) compute the corresponding distance matrix."
   ]
  },
  {
   "cell_type": "code",
   "execution_count": null,
   "metadata": {
    "collapsed": true
   },
   "outputs": [],
   "source": [
    "# ..."
   ]
  },
  {
   "cell_type": "markdown",
   "metadata": {},
   "source": [
    "## Normalization\n",
    "\n",
    "The two attributes in this data set have very different scales. The sample range for $X_1$ is $\\hat{r} = 40 - 12 = 28$ and the sample range for $X_2$ is $\\hat{r} = 2700 - 300 = 2400$. For example, the euclidean distance between $\\*x_1$ and $\\*x_2$ is $\\sqrt{2^2 + 200^2} = 200.01$. As you can see, the contribution of these variables in the dissimilarity measure depends on their scale. The contribution of $X_1$ is therefore overshadowed by the contribution of $X_2$.\n",
    "\n",
    "**Exercise** - Apply the [standard score normalisation](http://scikit-learn.org/stable/modules/generated/sklearn.preprocessing.StandardScaler.html) on this data set and compute the resulting mean and standard deviation."
   ]
  },
  {
   "cell_type": "code",
   "execution_count": null,
   "metadata": {
    "collapsed": true
   },
   "outputs": [],
   "source": [
    "# ... "
   ]
  },
  {
   "cell_type": "markdown",
   "metadata": {},
   "source": [
    "**Exercise** - Compute the distance matrix for the resulting data frame. Compare the two distance matrices visually with the help of [pcolor](https://matplotlib.org/api/_as_gen/matplotlib.axes.Axes.pcolor.html)."
   ]
  },
  {
   "cell_type": "code",
   "execution_count": null,
   "metadata": {
    "collapsed": true
   },
   "outputs": [],
   "source": [
    "# ... "
   ]
  },
  {
   "cell_type": "markdown",
   "metadata": {},
   "source": [
    "**Exercise** - Show by an example that *cosine distance* is not a true distance metric. This function is defined as follow :\n",
    "$$d(p, q) = 1 - |cos(p, q)| = 1 - \\left|\\frac{p \\cdot q}{\\|p\\|\\|q\\|}\\right|.$$"
   ]
  },
  {
   "cell_type": "code",
   "execution_count": null,
   "metadata": {
    "collapsed": true
   },
   "outputs": [],
   "source": [
    "# ..."
   ]
  },
  {
   "cell_type": "markdown",
   "metadata": {},
   "source": [
    "## Working in higher dimensions"
   ]
  },
  {
   "cell_type": "markdown",
   "metadata": {},
   "source": [
    "Execute the following code. What do you conclude from it ?"
   ]
  },
  {
   "cell_type": "code",
   "execution_count": null,
   "metadata": {
    "collapsed": true
   },
   "outputs": [],
   "source": [
    "# see \"On the Surprising Behavior of Distance Metrics in High Dimensional Space\"\n",
    "# by Charu C. Aggarwal, Alexander Hinneburg, and Daniel A. Keim\n",
    "\n",
    "dimensions = [10, 20, 30, 40, 50, 100, 200, 500, 1000]\n",
    "p_norms = [1, 2, 10]\n",
    "\n",
    "relative_contrasts = np.zeros((len(dimensions), len(p_norms)))\n",
    "\n",
    "for i, d in enumerate(dimensions):\n",
    "    relative_contrasts_d = np.zeros((30, len(p_norms)))\n",
    "    for j in range(30):\n",
    "        points = np.random.rand(100, d)\n",
    "        for k, p in enumerate(p_norms):\n",
    "            dists = np.linalg.norm(points, axis=1, ord=p)\n",
    "            relative_contrasts_d[j, k] = (max(dists) - min(dists))/min(dists)\n",
    "    for k, p in enumerate(p_norms):\n",
    "        relative_contrasts[i, k] = np.mean(relative_contrasts_d[:,k])\n",
    "\n",
    "colors = ['r', 'g', 'b']\n",
    "for i, color in enumerate(colors):\n",
    "    plt.plot(dimensions, relative_contrasts[:,i], color + '-')\n",
    "    plt.plot(dimensions, relative_contrasts[:,i], color + '.')\n",
    "\n",
    "plt.ylabel('Relative contrast')\n",
    "plt.xlabel('Data dimensionality')\n",
    "plt.show()"
   ]
  },
  {
   "cell_type": "markdown",
   "metadata": {},
   "source": [
    "## Distances between Probability distributions"
   ]
  },
  {
   "cell_type": "markdown",
   "metadata": {},
   "source": [
    "Consider the following dataset composed of two numerical attributes. Based on the use of distance metrics and the distribution of these attributes, determine which attribute follows a [normal distribution](https://docs.scipy.org/doc/scipy/reference/generated/scipy.stats.norm.html)."
   ]
  },
  {
   "cell_type": "code",
   "execution_count": null,
   "metadata": {
    "collapsed": true
   },
   "outputs": [],
   "source": [
    "# ..."
   ]
  },
  {
   "cell_type": "markdown",
   "metadata": {},
   "source": [
    "## $k$-Nearest Neighbors"
   ]
  },
  {
   "cell_type": "markdown",
   "metadata": {},
   "source": [
    "Build a $k$-nearest neighbors classifier for the [iris dataset](https://archive.ics.uci.edu/ml/datasets/iris) with $k = 3$."
   ]
  },
  {
   "cell_type": "code",
   "execution_count": null,
   "metadata": {
    "collapsed": true
   },
   "outputs": [],
   "source": [
    "# ..."
   ]
  },
  {
   "cell_type": "markdown",
   "metadata": {},
   "source": [
    "Evaluate the performance of this classifier with a [K-Folds cross-validator](http://scikit-learn.org/stable/modules/generated/sklearn.model_selection.KFold.html#sklearn.model_selection.KFold) by using 10 splits. Do you oberver different resuls by settin the `shuffle` parameter to `True`."
   ]
  },
  {
   "cell_type": "code",
   "execution_count": null,
   "metadata": {
    "collapsed": true
   },
   "outputs": [],
   "source": [
    "# ..."
   ]
  },
  {
   "cell_type": "markdown",
   "metadata": {},
   "source": [
    "Use [cross_val_predict](http://scikit-learn.org/stable/modules/generated/sklearn.model_selection.cross_val_predict.html#sklearn.model_selection.cross_val_predict) to compute the [accuracy score](scikit-learn.org/stable/modules/generated/sklearn.metrics.accuracy_score.html)."
   ]
  },
  {
   "cell_type": "code",
   "execution_count": null,
   "metadata": {
    "collapsed": true
   },
   "outputs": [],
   "source": [
    "# ..."
   ]
  },
  {
   "cell_type": "markdown",
   "metadata": {},
   "source": [
    "Compute the [confusion matrix](http://scikit-learn.org/stable/modules/generated/sklearn.metrics.confusion_matrix.html) for this model."
   ]
  },
  {
   "cell_type": "code",
   "execution_count": null,
   "metadata": {
    "collapsed": true
   },
   "outputs": [],
   "source": [
    "# ..."
   ]
  },
  {
   "cell_type": "markdown",
   "metadata": {},
   "source": [
    "Create a figure that present the evolution of the *accuracy score* with respect to the value of $k \\in [1, 10]$."
   ]
  },
  {
   "cell_type": "code",
   "execution_count": null,
   "metadata": {
    "collapsed": true
   },
   "outputs": [],
   "source": [
    "# ..."
   ]
  }
 ],
 "metadata": {
  "kernelspec": {
   "display_name": "Python 3",
   "language": "python",
   "name": "python3"
  },
  "language_info": {
   "codemirror_mode": {
    "name": "ipython",
    "version": 3
   },
   "file_extension": ".py",
   "mimetype": "text/x-python",
   "name": "python",
   "nbconvert_exporter": "python",
   "pygments_lexer": "ipython3",
   "version": "3.6.2"
  }
 },
 "nbformat": 4,
 "nbformat_minor": 2
}
