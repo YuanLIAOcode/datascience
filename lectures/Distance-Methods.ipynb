{
 "cells": [
  {
   "cell_type": "markdown",
   "metadata": {},
   "source": [
    "$\\def\\*#1{\\mathbf{#1}}$\n",
    "$\\DeclareMathOperator*{\\argmax}{arg\\,max}$\n",
    "\n",
    "# Distances Methods"
   ]
  },
  {
   "cell_type": "code",
   "execution_count": null,
   "metadata": {},
   "outputs": [],
   "source": [
    "import numpy as np\n",
    "\n",
    "import matplotlib.pyplot as plt\n",
    "%matplotlib notebook\n",
    "\n",
    "from sklearn.model_selection import train_test_split\n",
    "import sklearn.datasets as datasets\n",
    "from sklearn.neighbors import KNeighborsClassifier\n",
    "from sklearn.metrics import confusion_matrix"
   ]
  },
  {
   "cell_type": "markdown",
   "metadata": {},
   "source": [
    "## Data Matrix\n",
    "\n",
    "* Each row is a **record** (instance, object, point,...).\n",
    "* Each column is a **feature** (attribute, dimension,...).\n",
    "\n",
    "$$\n",
    "D = \n",
    "\\left(\n",
    "\\begin{array}{c|cccc}\n",
    "        & X_1 & X_2 & \\cdots & X_d\\\\\n",
    "        \\hline\n",
    "  \\*x_1 & x_{1,1} & x_{1,2} & \\cdots & x_{1,d} \\\\\n",
    "  \\*x_2 & x_{2,1} & x_{2,2} & \\cdots & x_{2,d} \\\\\n",
    "  \\vdots & \\vdots  & \\vdots  & \\ddots & \\vdots  \\\\\n",
    "  \\*x_n & x_{n,1} & x_{n,2} & \\cdots & x_{n,d} \n",
    "\\end{array}\n",
    "\\right)\n",
    "$$\n",
    "\n",
    "* Each row is a point in a $d$-dimensional geometric space.\n"
   ]
  },
  {
   "cell_type": "markdown",
   "metadata": {},
   "source": [
    "## Measuring distance"
   ]
  },
  {
   "cell_type": "markdown",
   "metadata": {},
   "source": [
    "The well known euclidean distance is defined as follows :\n",
    "\n",
    "$$d(p, q) = \\sqrt{\\sum_{i=1}^d(p_i - q_i)^2}$$"
   ]
  },
  {
   "cell_type": "code",
   "execution_count": null,
   "metadata": {
    "scrolled": true
   },
   "outputs": [],
   "source": [
    "fig, ax = plt.subplots()\n",
    "plt.prism() # set the default colormap to prism\n",
    "\n",
    "fig.suptitle('Euclidean distances from (0, 0)')\n",
    "\n",
    "x = np.linspace(-10, 10, 100)\n",
    "y = np.linspace(-10, 10, 100)\n",
    "\n",
    "xv, yv  = np.meshgrid(x, y)\n",
    "\n",
    "l2_norm = np.sqrt(xv**2 + yv**2)\n",
    "\n",
    "controur_set = ax.contour(xv, yv, l2_norm, levels=np.arange(11))\n",
    "ax.clabel(controur_set)"
   ]
  },
  {
   "cell_type": "markdown",
   "metadata": {},
   "source": [
    "## Distance Metrics"
   ]
  },
  {
   "cell_type": "markdown",
   "metadata": {},
   "source": [
    "A *metric* satisties the following properties :\n",
    "\n",
    "* *Positivity* : $d(x, y) \\geqslant 0$, for all $x$ and $y$.\n",
    "* *Identity* : $d(x, y) = 0$, if and only if $x = y$.\n",
    "* *Symmetry* : $d(x, y) = d(y, x)$, for all $x$ and $y$.\n",
    "* *Triangle inequality* : $d(x, y) \\leqslant d(x, z) + d(z, y)$ for all $x$, $y$, and $z$."
   ]
  },
  {
   "cell_type": "markdown",
   "metadata": {},
   "source": [
    "## The $L_k$ Distance Metric\n",
    "\n",
    "$$d_k(p, q) \\Big(\\sum_{i=1}^d\\big|p_i - q_i\\big|^k\\Big)^{\\frac{1}{k}}$$\n",
    "\n",
    "* $k = 1$ : Manhattan distance\n",
    "* $k = 2$ : Euclidean distance\n",
    "* $k = \\infty$ : Maximum component"
   ]
  },
  {
   "cell_type": "code",
   "execution_count": null,
   "metadata": {},
   "outputs": [],
   "source": [
    "fig, ax = plt.subplots()\n",
    "\n",
    "fig.suptitle('Manhattan distances from (0, 0)')\n",
    "\n",
    "x = np.linspace(-10, 10, 100)\n",
    "y = np.linspace(-10, 10, 100)\n",
    "\n",
    "xv, yv  = np.meshgrid(x, y)\n",
    "\n",
    "l1_norm = np.abs(xv) + np.abs(yv)\n",
    "\n",
    "controur_set = ax.contour(xv, yv, l1_norm, levels=np.arange(11))\n",
    "ax.clabel(controur_set)"
   ]
  },
  {
   "cell_type": "code",
   "execution_count": null,
   "metadata": {},
   "outputs": [],
   "source": [
    "fig, ax = plt.subplots()\n",
    "\n",
    "fig.suptitle('Maximum component from (0, 0)')\n",
    "\n",
    "x = np.linspace(-10, 10, 100)\n",
    "y = np.linspace(-10, 10, 100)\n",
    "\n",
    "xv, yv  = np.meshgrid(x, y)\n",
    "\n",
    "linfty_norm = np.maximum(np.abs(xv), np.abs(yv))\n",
    "\n",
    "controur_set = ax.contour(xv, yv, linfty_norm, levels=np.arange(11))\n",
    "ax.clabel(controur_set)"
   ]
  },
  {
   "cell_type": "markdown",
   "metadata": {},
   "source": [
    "## Nearest Neighbor Classification"
   ]
  },
  {
   "cell_type": "markdown",
   "metadata": {},
   "source": [
    "#### Generate data points forming two different circles"
   ]
  },
  {
   "cell_type": "code",
   "execution_count": null,
   "metadata": {},
   "outputs": [],
   "source": [
    "X, y = datasets.make_circles(n_samples=100, noise=.1, factor=.5)\n",
    "print(\"X.shape:\", X.shape)\n",
    "print(\"unique labels: \", np.unique(y))"
   ]
  },
  {
   "cell_type": "markdown",
   "metadata": {},
   "source": [
    "#### Plot the data"
   ]
  },
  {
   "cell_type": "code",
   "execution_count": null,
   "metadata": {},
   "outputs": [],
   "source": [
    "fig, ax = plt.subplots()\n",
    "ax.scatter(X[:, 0], X[:, 1], c=y)"
   ]
  },
  {
   "cell_type": "markdown",
   "metadata": {},
   "source": [
    "#### Consider a new point"
   ]
  },
  {
   "cell_type": "code",
   "execution_count": null,
   "metadata": {},
   "outputs": [],
   "source": [
    "p = np.array([0, 0.5])"
   ]
  },
  {
   "cell_type": "code",
   "execution_count": null,
   "metadata": {},
   "outputs": [],
   "source": [
    "fig, ax = plt.subplots()\n",
    "ax.scatter(X[:, 0], X[:, 1], c=y)\n",
    "ax.scatter(p[0], p[1], marker='^', color='blue')"
   ]
  },
  {
   "cell_type": "markdown",
   "metadata": {},
   "source": [
    "#### Find the nearest neighbor"
   ]
  },
  {
   "cell_type": "code",
   "execution_count": null,
   "metadata": {},
   "outputs": [],
   "source": [
    "l2 = np.sqrt(np.sum((X-p)**2, axis=1))"
   ]
  },
  {
   "cell_type": "code",
   "execution_count": null,
   "metadata": {},
   "outputs": [],
   "source": [
    "fig, ax = plt.subplots()\n",
    "positive = y == 1\n",
    "negative = y == 0\n",
    "ax.scatter(X[positive, 0], X[positive, 1], c=l2[positive], cmap='hot', marker='+')\n",
    "ax.scatter(X[negative, 0], X[negative, 1], c=l2[negative], cmap='hot')\n",
    "ax.scatter(p[0], p[1], marker='^', color='blue')"
   ]
  },
  {
   "cell_type": "code",
   "execution_count": null,
   "metadata": {},
   "outputs": [],
   "source": [
    "nearest_neighbor = np.argmin(l2)\n",
    "nearest_neighbor"
   ]
  },
  {
   "cell_type": "code",
   "execution_count": null,
   "metadata": {
    "collapsed": true
   },
   "outputs": [],
   "source": [
    "others = np.arange(X.shape[0])\n",
    "others = np.setdiff1d(others, nearest_neighbor)"
   ]
  },
  {
   "cell_type": "code",
   "execution_count": null,
   "metadata": {
    "scrolled": false
   },
   "outputs": [],
   "source": [
    "fig, ax = plt.subplots()\n",
    "ax.scatter(X[others, 0], X[others, 1], c='black')\n",
    "ax.scatter(p[0], p[1], marker='^', color='blue')\n",
    "ax.scatter(X[nearest_neighbor, 0], X[nearest_neighbor, 1], c=y[nearest_neighbor], marker='+')"
   ]
  },
  {
   "cell_type": "markdown",
   "metadata": {},
   "source": [
    "## $k$-Nearest Neighbors"
   ]
  },
  {
   "cell_type": "markdown",
   "metadata": {},
   "source": [
    "#### Find the 30 nearest neighbors"
   ]
  },
  {
   "cell_type": "code",
   "execution_count": null,
   "metadata": {},
   "outputs": [],
   "source": [
    "k_nearest_neighbors = np.argsort(l2)[:30]\n",
    "k_nearest_neighbors"
   ]
  },
  {
   "cell_type": "code",
   "execution_count": null,
   "metadata": {
    "collapsed": true
   },
   "outputs": [],
   "source": [
    "others = np.arange(X.shape[0])\n",
    "others = np.setdiff1d(others, k_nearest_neighbors)"
   ]
  },
  {
   "cell_type": "code",
   "execution_count": null,
   "metadata": {},
   "outputs": [],
   "source": [
    "fig, ax = plt.subplots()\n",
    "ax.scatter(X[others, 0], X[others, 1], c='black')\n",
    "ax.scatter(p[0], p[1], marker='^', color='blue')\n",
    "ax.scatter(X[k_nearest_neighbors, 0], X[k_nearest_neighbors, 1], c=y[k_nearest_neighbors], marker='+')"
   ]
  },
  {
   "cell_type": "markdown",
   "metadata": {},
   "source": [
    "#### Split the data set : training and test sets"
   ]
  },
  {
   "cell_type": "code",
   "execution_count": null,
   "metadata": {},
   "outputs": [],
   "source": [
    "X_train, X_test, y_train, y_test = train_test_split(X, y, test_size=0.33)"
   ]
  },
  {
   "cell_type": "markdown",
   "metadata": {},
   "source": [
    "#### Classify the points (in the two classes) using a k-nn classifier:"
   ]
  },
  {
   "cell_type": "code",
   "execution_count": null,
   "metadata": {
    "collapsed": true
   },
   "outputs": [],
   "source": [
    "# we specify that this knn should always use 5 neighbors\n",
    "knn = KNeighborsClassifier(n_neighbors=5)"
   ]
  },
  {
   "cell_type": "code",
   "execution_count": null,
   "metadata": {},
   "outputs": [],
   "source": [
    "knn.fit(X_train, y_train)\n",
    "\n",
    "y_pred_train = knn.predict(X_train)\n",
    "print(\"KNN validation accuracy on training set: \", knn.score(X_train, y_train), '\\n')\n",
    "\n",
    "y_pred_test = knn.predict(X_test)\n",
    "print(\"KNN validation accuracy on test set: \", knn.score(X_test, y_test), '\\n')\n",
    "\n",
    "C = confusion_matrix(y_true=y_test, y_pred=y_pred_test)\n",
    "\n",
    "print(\"Confusion matrix: \\n\\n\", C)"
   ]
  },
  {
   "cell_type": "markdown",
   "metadata": {},
   "source": [
    "#### Nearest-neighbors classifiers lead to decision boundaries"
   ]
  },
  {
   "cell_type": "code",
   "execution_count": null,
   "metadata": {},
   "outputs": [],
   "source": [
    "x = np.linspace(-1, 1)\n",
    "y = np.linspace(-1, 1)\n",
    "xv, yv = np.meshgrid(x, y)\n",
    "X = np.stack([xv.flatten(), yv.flatten()], axis=1)\n",
    "classes = knn.predict(X)\n",
    "\n",
    "fig, ax = plt.subplots()\n",
    "ax.pcolormesh(xv, yv, classes.reshape(xv.shape))"
   ]
  }
 ],
 "metadata": {
  "kernelspec": {
   "display_name": "Python 3",
   "language": "python",
   "name": "python3"
  },
  "language_info": {
   "codemirror_mode": {
    "name": "ipython",
    "version": 3
   },
   "file_extension": ".py",
   "mimetype": "text/x-python",
   "name": "python",
   "nbconvert_exporter": "python",
   "pygments_lexer": "ipython3",
   "version": "3.6.2"
  }
 },
 "nbformat": 4,
 "nbformat_minor": 2
}
