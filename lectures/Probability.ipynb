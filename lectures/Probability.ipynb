{
 "cells": [
  {
   "cell_type": "markdown",
   "metadata": {},
   "source": [
    "# Probability\n",
    "\n",
    "These notes contain excerpts from : \n",
    "\n",
    "* **The Data Science Design Manual**, by Steven Skiena, 2017, Springer;\n",
    "* Python notebooks available at [http://data-manual.com/data](http://data-manual.com/data);\n",
    "* Lectures slides available at [http://www3.cs.stonybrook.edu/~skiena/data-manual/lectures/](http://www3.cs.stonybrook.edu/~skiena/data-manual/lectures/)."
   ]
  },
  {
   "cell_type": "code",
   "execution_count": null,
   "metadata": {},
   "outputs": [],
   "source": [
    "from scipy import stats\n",
    "import matplotlib.pyplot as plt\n",
    "import numpy as np\n",
    "from math import log\n",
    "# %matplotlib notebook\n",
    "%matplotlib qt5"
   ]
  },
  {
   "cell_type": "markdown",
   "metadata": {},
   "source": [
    "*Probability theory provides a formal framework for reasoning about the likelihood of events.*"
   ]
  },
  {
   "cell_type": "markdown",
   "metadata": {},
   "source": [
    "### Random experiments\n",
    "\n",
    "**Experiment** : a procedure which yields one of a set of possible **outcomes**\n",
    " * **rolling a die** (for example, *Outcome* : 4)\n",
    " * **measuring the time to reach home** (for example, *Outcome* : 42 minutes)\n",
    " * **tomorrow's weather** ( for example, *Outcome* : Partly Cloudy)\n",
    "\n",
    "**Sample Space** : the set of possible outcomes (usualy denoted $S$ or $\\Omega$)\n",
    "\n",
    "Consider the experiment of tossing two six-sided dice :"
   ]
  },
  {
   "cell_type": "code",
   "execution_count": null,
   "metadata": {},
   "outputs": [],
   "source": [
    "blue_die_faces = [1, 2, 3, 4, 5, 6]\n",
    "red_die_faces = [1, 2, 3, 4, 5, 6]\n",
    "\n",
    "sample_space = [(f1, f2) for f1 in blue_die_faces for f2 in red_die_faces]\n",
    "\n",
    "print(sample_space)"
   ]
  },
  {
   "cell_type": "markdown",
   "metadata": {},
   "source": [
    "**Event** : a subset of the sample space"
   ]
  },
  {
   "cell_type": "code",
   "execution_count": null,
   "metadata": {},
   "outputs": [],
   "source": [
    "def sum_equals_7_or_11(pair):\n",
    "    sum = pair[0] + pair[1]\n",
    "    return sum == 7 or sum == 11\n",
    "\n",
    "E = list(filter(sum_equals_7_or_11, sample_space))\n",
    "print(E)"
   ]
  },
  {
   "cell_type": "markdown",
   "metadata": {},
   "source": [
    "The **probability** $p(s)$ of an outcome $s \\in S$ satisfies:\n",
    "\n",
    "* $0 \\leqslant p(s) \\leqslant 1$\n",
    "* $\\sum_{s \\in S} p(s) = 1$\n",
    "\n",
    "What is the probability of $p(s)$, with $s = (2, 5)$ ?\n",
    "\n",
    "The **probability of an event** $E$ is defined as :\n",
    "\n",
    "$$\n",
    "P(E) = \\sum_{s \\in E} p(s).\n",
    "$$\n",
    "\n",
    "The complement of $E$ is denoted $\\bar{E}$. What is the probability of $\\bar{E}$ ?"
   ]
  },
  {
   "cell_type": "markdown",
   "metadata": {},
   "source": [
    "#### The classical interpretation \n",
    "\n",
    "$$\n",
    "\\text{The probability of an event} = \\frac{\\text{Number of favourable outcomes}}{\\text{Number of possible outcomes}}\n",
    "$$\n",
    "\n",
    "where all the possible **outcomes are equaly likely**.\n",
    "\n",
    "For example, if we consider the experiment : \"rolling a die\". In this case the probability of getting an odd number id $3/6$, because each possible outcome is equally likely."
   ]
  },
  {
   "cell_type": "markdown",
   "metadata": {},
   "source": [
    "**Exercise** - Complete the following function definition :"
   ]
  },
  {
   "cell_type": "code",
   "execution_count": null,
   "metadata": {},
   "outputs": [],
   "source": [
    "from fractions import Fraction\n",
    "\n",
    "def P(event, sample_space): \n",
    "    \"\"\"The probability of an event,\n",
    "    given a sample space of equiprobable outcomes.\n",
    "    \"\"\"\n",
    "    return\n",
    "\n",
    "p = P(event = {2, 4, 6}, sample_space = {1, 2, 3, 4, 5, 6})\n",
    "print(p, float(p))"
   ]
  },
  {
   "cell_type": "markdown",
   "metadata": {},
   "source": [
    "#### The frequency interpretation\n",
    "\n",
    "$$\n",
    "\\text{The relative frequency of an event} = \\frac{\\text{Number of times the event has occured}}{\\text{Number of observed cases}}\n",
    "$$\n",
    "\n",
    "Let $N$ denotes the number of times the random experiment is repeated and $N_E$ the number of times that event $E$ has occured.\n",
    "\n",
    "$$\n",
    "P(E) = \\lim_{N\\to\\infty} \\frac{N_E}{N}\n",
    "$$"
   ]
  },
  {
   "cell_type": "code",
   "execution_count": null,
   "metadata": {
    "collapsed": true
   },
   "outputs": [],
   "source": [
    "import numpy as np\n",
    "sample_space = {1, 2, 3, 4, 5, 6}\n",
    "# The die is rolled n times\n",
    "n = 30\n",
    "sample = np.random.choice(list(sample_space), n)\n",
    "print('samples length : {}'.format(len(sample)))\n",
    "print(sample)"
   ]
  },
  {
   "cell_type": "markdown",
   "metadata": {},
   "source": [
    "**Exercise** - With the help of [scipy.stats.itemfreq](http://docs.scipy.org/doc/scipy/reference/generated/scipy.stats.itemfreq.html), compute the absolute and relative frequency of each outcome from the sample space."
   ]
  },
  {
   "cell_type": "code",
   "execution_count": null,
   "metadata": {
    "collapsed": true
   },
   "outputs": [],
   "source": [
    "from scipy import stats\n",
    "\n",
    "# ..."
   ]
  },
  {
   "cell_type": "markdown",
   "metadata": {},
   "source": [
    "**Exercise** - Same question with (pandas.Series.value_counts)[http://pandas.pydata.org/pandas-docs/stable/generated/pandas.Series.value_counts.html)"
   ]
  },
  {
   "cell_type": "code",
   "execution_count": null,
   "metadata": {
    "collapsed": true
   },
   "outputs": [],
   "source": [
    "# ..."
   ]
  },
  {
   "cell_type": "markdown",
   "metadata": {},
   "source": [
    "## Compound Events and Independence\n",
    "\n",
    "Events $A$ and $B$ are independent iff\n",
    "\n",
    "$$\n",
    "P(A \\cap B) = P(A) \\times P(B)\n",
    "$$\n",
    "\n",
    "Consider the following events for the experiment \"rolling a die\" :\n",
    "\n",
    "* $E_1 = \\{1, 3, 5\\}$\n",
    "* $E_2 = \\{2, 4, 6\\}$\n",
    "* $E_3 = \\{1, 2\\}$ = \"the value is less or equal than 2\" \n",
    "\n",
    "Which pair of events is independent ?\n",
    "\n",
    "This simplifies calculation, but not good for **prediction**. Why ?\n"
   ]
  },
  {
   "cell_type": "markdown",
   "metadata": {},
   "source": [
    "## Conditional probability\n",
    "\n",
    "The *conditional probability* of $A$ given $B$ is defined:\n",
    "\n",
    "$$\n",
    "P(A | B) = \\frac{P(A \\cap B)}{P(B)}\n",
    "$$\n",
    "\n",
    "also defined as follows:\n",
    "\n",
    "$$\n",
    "P(A \\cap B) = P(A) \\times P(B | A)\n",
    "$$\n",
    "\n",
    "Consider the following events for the experiment \"rolling a die\" :\n",
    "\n",
    "* $E_1 = \\{1, 3, 5\\}$\n",
    "* $E_2 = \\{2, 4, 6\\}$\n",
    "* $E_3 = \\{4, 5, 6\\}$ = \"the value is greater or equal than 4\"\n",
    "\n",
    "Questions :\n",
    "\n",
    "* $P(E_1 | E_3) =$ ?\n",
    "* $P(E_2 | E_3) =$ ?\n",
    "\n",
    "\n",
    "The computation of the conditional probability is typically used in **classification problems**. For example in the case of *spam* filtering, $A$ would be that an email is a spam and $B$ the occurence of words within this email.\n",
    "\n",
    "We will be able to compute conditional probabilities with the help of the *Bayes theorem* devised from the previous definitions :\n",
    "\n",
    "$$\n",
    "P(A | B) = \\frac{P(A) \\times P(B | A)}{P(B)}\n",
    "$$"
   ]
  },
  {
   "cell_type": "markdown",
   "metadata": {},
   "source": [
    "## Probability distributions"
   ]
  },
  {
   "cell_type": "markdown",
   "metadata": {},
   "source": [
    "A **random variable** $V$ is a numerical function on the outcomes of a probability space. For example :\n",
    "\n",
    "$$\n",
    "V((a, b)) = a + b\n",
    "$$\n",
    "\n",
    "What is the value of $P(V(s) = 7)$ ?\n",
    "\n",
    "The **expected value** of $V$ is defined :\n",
    "\n",
    "$$\n",
    "E(V) = \\sum_{s \\in S} p(s) \\cdot V(s)\n",
    "$$\n",
    "\n",
    "Random variables are represented by their **probability density function** (pdf) :"
   ]
  },
  {
   "cell_type": "code",
   "execution_count": null,
   "metadata": {},
   "outputs": [],
   "source": [
    "results = [sum(outcome) for outcome in sample_space]\n",
    "\n",
    "fix, ax = plt.subplots()\n",
    "\n",
    "ax.hist(results, bins=[2,3,4,5,6,7,8,9,10,11,12,13],\\\n",
    "        align='left', normed='True', histtype='step', color='red', linewidth='1.2')\n",
    "  \n",
    "#The x and y axis and the title\n",
    "ax.set_title(\"pdf\")\n",
    "ax.set_xticks(np.arange(2, 13, 1.0))\n",
    "ax.set_xlim(1.55,12.45)\n",
    "ax.set_xlabel(\"Total on dice\")\n",
    "ax.set_ylabel(\"Probability\")"
   ]
  },
  {
   "cell_type": "markdown",
   "metadata": {},
   "source": [
    "Random variables are also represented by their **cumulative density function** (cdf) :"
   ]
  },
  {
   "cell_type": "code",
   "execution_count": null,
   "metadata": {},
   "outputs": [],
   "source": [
    "results = [sum(outcome) for outcome in sample_space]\n",
    "\n",
    "fix, ax = plt.subplots()\n",
    "\n",
    "# in this case : cumulative=True\n",
    "ax.hist(results, bins=[2,3,4,5,6,7,8,9,10,11,12,13],\\\n",
    "                 align='left', normed='True', cumulative=True, histtype='step', color='red', linewidth='1.2')\n",
    "  \n",
    "ax.set_title(\"cdf\")\n",
    "ax.set_xticks(np.arange(2, 13, 1.0))\n",
    "ax.set_xlim(1.55,12.45)\n",
    "ax.set_xlabel(\"Total on dice\")\n",
    "ax.set_ylabel(\"Probability\")"
   ]
  },
  {
   "cell_type": "markdown",
   "metadata": {},
   "source": [
    "The **cdf** is computed as follows :\n",
    "\n",
    "$$\n",
    "C(X \\leqslant k) = \\sum_{x \\leqslant k} P(X = x)\n",
    "$$\n",
    "\n",
    "Pay attention to which distribution is considered. For example, in the case of the iPhone sales :"
   ]
  },
  {
   "cell_type": "code",
   "execution_count": null,
   "metadata": {},
   "outputs": [],
   "source": [
    "sales =[0.27,1.12,2.32,1.7,0.72,6.89,4.36,3.79,\\\n",
    "        5.21,7.37,8.74,8.75,8.4,14.1,16.24,\\\n",
    "        18.65,20.34,17.07,37.04,35.06,26.03,\n",
    "        26.91,47.79,37.43,31.24]\n",
    "x = range(25)\n",
    "xlabels = ['2007 Q3','Q4','2008 Q1','Q2','Q3','Q4','2009 Q1','Q2','Q3','Q4',\\\n",
    "          '2010 Q1','Q2','Q3','Q4','2011 Q1','Q2','Q3','Q4','2012 Q1','Q2','Q3','Q4',\\\n",
    "          '2013 Q1','Q2','Q3']\n",
    "\n",
    "fig, ax = plt.subplots()\n",
    "\n",
    "# ax.plot(x,sales, 'bo-', label='iPhone Sales Per Quarter')\n",
    "ax.plot(x,[sum(sales[:j]) for j in range(1,26)], 'ro-', label='iPhone Total Sales')\n",
    "\n",
    "ax.set_xticks(x)\n",
    "ax.set_xticklabels(xlabels, rotation='vertical')\n",
    "ax.set_ylabel('iPhone Unit Sales in Millions')\n",
    "ax.set_xlim(-1,25)\n",
    "ax.set_ylim(-10,400)\n",
    "ax.legend(loc='upper left')"
   ]
  }
 ],
 "metadata": {
  "kernelspec": {
   "display_name": "Python 3",
   "language": "python",
   "name": "python3"
  },
  "language_info": {
   "codemirror_mode": {
    "name": "ipython",
    "version": 3
   },
   "file_extension": ".py",
   "mimetype": "text/x-python",
   "name": "python",
   "nbconvert_exporter": "python",
   "pygments_lexer": "ipython3",
   "version": "3.6.2"
  }
 },
 "nbformat": 4,
 "nbformat_minor": 2
}
