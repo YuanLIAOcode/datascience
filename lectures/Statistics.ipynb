{
 "cells": [
  {
   "cell_type": "markdown",
   "metadata": {},
   "source": [
    "# Statistics"
   ]
  },
  {
   "cell_type": "code",
   "execution_count": 9,
   "metadata": {},
   "outputs": [
    {
     "name": "stdout",
     "output_type": "stream",
     "text": [
      "Using matplotlib backend: Qt5Agg\n"
     ]
    }
   ],
   "source": [
    "import matplotlib.pyplot as plt\n",
    "import numpy as np\n",
    "import math\n",
    "from scipy import stats\n",
    "%matplotlib"
   ]
  },
  {
   "cell_type": "markdown",
   "metadata": {},
   "source": [
    "![The central dogma of statistgics](figures/statistics.png)\n",
    "From S.Skiena, *The Data Science Manual*, Texts in computer Science, 2017"
   ]
  },
  {
   "cell_type": "markdown",
   "metadata": {},
   "source": [
    "## Descriptive Statistics\n",
    "\n",
    "We consider a sample (data set) composed of $n$ observations : $x_1, x_2,\\ldots, x_i, \\ldots, x_n$.\n",
    "\n",
    "The two main types of descriptive statistics :\n",
    "\n",
    "* **Central tendency measures** : describe the center around the data is distributed.\n",
    "* **Variation or variability measures** : describe data spread, i.e. how far the measurements lie from the center.\n",
    "\n",
    "The **Mean** is a well centrality measure :\n",
    "\n",
    "$$\n",
    "\\bar{x} = \\frac{1}{n} \\sum_{i=1}^n x_i\n",
    "$$\n",
    "\n",
    "This measure is meaningful for symetric distributions without outlier. For example, consider the following data sets :"
   ]
  },
  {
   "cell_type": "code",
   "execution_count": 9,
   "metadata": {
    "collapsed": true
   },
   "outputs": [],
   "source": [
    "heights = [1.79, 1.65, 1.85, 1.72, 1.94, 1.87, 1.62, 1.80]\n",
    "# outlier\n",
    "weights = [80, 62, 57, 68, 90, 2000, 71]\n",
    "# asymmetric distribution\n",
    "grades = [20, 20, 20, 20, 20, 5, 5, 5, 5, 5, 5, 5, 5, 5, 5]"
   ]
  },
  {
   "cell_type": "markdown",
   "metadata": {},
   "source": [
    "The **median** is used in the case of **skewed** distribution or in the presence of outliers. This measure is the exact middle value among the data set. This value is close to the arithmetic mean in the case of symmetrical distributions.\n",
    "\n",
    "Compare the wealth per adult on [https://en.wikipedia.org/wiki/List_of_countries_by_wealth_per_adult](https://en.wikipedia.org/wiki/List_of_countries_by_wealth_per_adult). What do you conclude ?\n",
    "\n",
    "The **geometric mean** is also a centrality measure :\n",
    "\n",
    "$$\n",
    "\\Big(\\prod_{i=1}^n x_i\\Big)^{1/n}\n",
    "$$\n",
    "\n",
    "This measure has several applications such as :\n",
    "\n",
    "* Compute average interest rate\n",
    "* Makes sense with rations (1/2 and 2/1)\n",
    "* To average values evaluated on different scales -> the same relative change leads to the same relative change in the geometric mean, for example :"
   ]
  },
  {
   "cell_type": "code",
   "execution_count": 10,
   "metadata": {
    "collapsed": true
   },
   "outputs": [],
   "source": [
    "v = [(10, 100), (20, 100), (10, 200), (20, 200)]\n",
    "arithmetic_means = [sum(pair)/2 for pair in v]\n",
    "geometric_means = [math.sqrt(pair[0]*pair[1]) for pair in v]"
   ]
  },
  {
   "cell_type": "markdown",
   "metadata": {},
   "source": [
    "**Standard deviation** ($\\sigma$) is a common variability measure :\n",
    "\n",
    "$$\n",
    "\\sigma = \\sqrt{\\frac{\\sum_{i=1}^n (a_i - \\bar{a})^2}{n - 1}}\n",
    "$$\n",
    "\n",
    "where $\\sigma^2 = V$ is the variance. This measure is obviously very sensitive to outliers."
   ]
  },
  {
   "cell_type": "code",
   "execution_count": 12,
   "metadata": {
    "collapsed": true
   },
   "outputs": [],
   "source": [
    "# the lifespan of light bulbs: normal (left) and with zero variance (right)."
   ]
  },
  {
   "cell_type": "markdown",
   "metadata": {},
   "source": [
    "Means and standard deviations complement each other for characterising any distribution. For example, this allows to use the **Chebyshev's inequality** :\n",
    "\n",
    "$$\n",
    "P(|X - \\mu| \\geqslant k\\sigma) \\leqslant \\frac{1}{k^2}\n",
    "$$\n",
    "\n",
    "This means that at least $(1-1/k^2)$th of the observations must lie in the interval $[\\bar{x}-k\\sigma, \\bar{x}+k\\sigma]$. Therefore, $75\\%$ of all the data must lie in the interval $[\\bar{x}-2\\sigma, \\bar{x}-2\\sigma]$."
   ]
  },
  {
   "cell_type": "markdown",
   "metadata": {},
   "source": [
    "## Distributions"
   ]
  },
  {
   "cell_type": "code",
   "execution_count": 11,
   "metadata": {},
   "outputs": [
    {
     "data": {
      "text/plain": [
       "<matplotlib.text.Text at 0x7f2545516e10>"
      ]
     },
     "execution_count": 11,
     "metadata": {},
     "output_type": "execute_result"
    }
   ],
   "source": [
    "fig, ax = plt.subplots()\n",
    "n = 200\n",
    "p = 0.5\n",
    "x = np.arange(stats.binom.ppf(0.000000001, n, p), stats.binom.ppf(0.999999999, n, p))\n",
    "ax.plot(x, stats.binom.pmf(x, n, p), linewidth=\"1.5\")\n",
    "ax.set_xlabel(\"X\")\n",
    "ax.set_ylabel(\"Probability\")\n",
    "ax.set_title(\"The Binomial Distribution of Coin Flips\")\n",
    "ax.set_xlim(65,135)"
   ]
  },
  {
   "cell_type": "code",
   "execution_count": 12,
   "metadata": {},
   "outputs": [
    {
     "data": {
      "text/plain": [
       "<matplotlib.text.Text at 0x7f25455d1240>"
      ]
     },
     "execution_count": 12,
     "metadata": {},
     "output_type": "execute_result"
    }
   ],
   "source": [
    "fig, ax = plt.subplots()\n",
    "n = 1000\n",
    "p = 0.001\n",
    "x = np.arange(stats.binom.ppf(0.0000000000000001, n, p), stats.binom.ppf(0.999999999999999999, n, p))\n",
    "ax.plot(x, stats.binom.pmf(x, n, p), linewidth=\"1.5\")\n",
    "ax.set_xlabel(\"X\")\n",
    "ax.set_xlim(0,5)\n",
    "ax.set_ylabel(\"Probability\")\n",
    "ax.set_title(\"The Binomial Distribution of Lightbulb Burnouts\")"
   ]
  },
  {
   "cell_type": "markdown",
   "metadata": {},
   "source": [
    "### The Binomial Distribution"
   ]
  },
  {
   "cell_type": "markdown",
   "metadata": {},
   "source": [
    "We consider a *random experiment* with two possible outcomes $P_1$ and $P_2$ with probabilities $p$ and $q = (1-p)$. The *binomial distribution* defines the probability that $P_1$ occurs exactly $x$ times after $n$ independent trials :\n",
    "\n",
    "$$\n",
    "P(X = x) = {n \\choose x} p^x (1 - p)^{(n - x)}\n",
    "$$\n",
    "\n",
    "This function of $x$ is the so-called **probability mass function** (**pmf**) for the **discrete random variable** $X$ for the *binomial distribution*."
   ]
  },
  {
   "cell_type": "markdown",
   "metadata": {},
   "source": [
    "### The Multinomial Distribution\n",
    "\n",
    "This distribution generalise the *binomial distribution*, where the result of a trial can lead to $k$ different outcomes instead of two. Each outcome is labelled $A_i$, with $i = 1,\\ldots,k$, with $p_i$ the respective probability. The *probability mass function* is defined as follows :\n",
    "\n",
    "$$\n",
    "P(X = (x_1,\\ldots,x_i,\\ldots,x_k)) = n!\\prod_{i=1}^k \\Big(\\frac{p_i^{x_i}}{x_i!}\\Big)\n",
    "$$"
   ]
  },
  {
   "cell_type": "markdown",
   "metadata": {},
   "source": [
    "### The Uniform Continuous Distribution\n",
    "\n",
    "Each value in the range $[a, b]$ is equaly likely to occur. For $x \\in [a, b]$, the **probability density function** is defines as :\n",
    "\n",
    "$$\n",
    "f(x) = \\frac{(x-a)}{(b-a)}\n",
    "$$\n",
    "\n",
    "$f(x) = 0$, otherwise."
   ]
  },
  {
   "cell_type": "code",
   "execution_count": 30,
   "metadata": {},
   "outputs": [
    {
     "data": {
      "text/plain": [
       "(array([ 0.18271735,  0.18128848,  0.18003821,  0.18039543,  0.17235801,\n",
       "         0.18057404,  0.17807351,  0.17878795,  0.18521788,  0.16664251]),\n",
       " array([ 2.00069874,  2.56057989,  3.12046104,  3.68034219,  4.24022334,\n",
       "         4.80010448,  5.35998563,  5.91986678,  6.47974793,  7.03962908,\n",
       "         7.59951022]),\n",
       " <a list of 1 Patch objects>)"
      ]
     },
     "execution_count": 30,
     "metadata": {},
     "output_type": "execute_result"
    }
   ],
   "source": [
    "fig, ax = plt.subplots()\n",
    "a = 2\n",
    "b = 7.6\n",
    "x = np.linspace(a, b, 100)\n",
    "\n",
    "ax.plot(x, stats.uniform.pdf(x, loc=a, scale=(b-a)), color='r', linewidth=\"1.5\")\n",
    "ax.set_xlabel(\"X\")\n",
    "ax.set_ylabel(\"Probability\")\n",
    "ax.set_title(\"Uniform Distribution\")\n",
    "ax.set_xlim(0,10)\n",
    "\n",
    "# random values\n",
    "r = stats.uniform.rvs(loc=a, scale=(b-a), size=10000)\n",
    "ax.hist(r, normed=True, histtype='stepfilled', alpha=0.2)"
   ]
  },
  {
   "cell_type": "markdown",
   "metadata": {},
   "source": [
    "### The Normal Distribution\n",
    "\n",
    "$$\n",
    "f(x) = \\frac{1}{\\sigma\\sqrt{2\\pi} } \\; e^{-(x-\\mu)^2/2\\sigma^2}\n",
    "$$\n",
    "\n",
    "A typical example of attribute following a normal distribution is the *experimental error*, where small ones are more likely dans big ones.\n",
    "\n",
    "Other examples of attributes that are **bell-shaped** but not necessarily normal are **physical phenomenon** such as :\n",
    "* height,\n",
    "* weight,\n",
    "* lifespan,..."
   ]
  },
  {
   "cell_type": "code",
   "execution_count": 31,
   "metadata": {},
   "outputs": [
    {
     "data": {
      "text/plain": [
       "(-3.5, 3.5)"
      ]
     },
     "execution_count": 31,
     "metadata": {},
     "output_type": "execute_result"
    }
   ],
   "source": [
    "fig, (ax1, ax2) = plt.subplots(1, 2, figsize=(13,4.5))\n",
    "\n",
    "# LEFT PLOT\n",
    "x = np.linspace(stats.norm.ppf(0.0001), stats.norm.ppf(0.9999), 100)\n",
    "ax1.plot(x, stats.norm.pdf(x), 'r-', linewidth=1.2)\n",
    "ax1.fill_between(x, stats.norm.pdf(x), facecolor='red', alpha=0.25)\n",
    "ax1.set_xlabel('x')\n",
    "ax1.set_ylabel('Density')\n",
    "ax1.set_title(\"pdf\")\n",
    "ax1.set_ylim(0,0.42)\n",
    "ax1.set_xlim(-3.5, 3.5)\n",
    "\n",
    "# RIGHT PLOT\n",
    "ax2.plot(x, stats.norm.cdf(x), 'b-', linewidth=1.2)\n",
    "ax2.fill_between(x, stats.norm.cdf(x), facecolor='blue', alpha=0.25)\n",
    "ax2.set_xlabel('x')\n",
    "ax2.set_ylabel('Density')\n",
    "ax2.set_title(\"cdf\")\n",
    "ax2.set_ylim(-0.005,1.05)\n",
    "ax2.set_xlim(-3.5, 3.5)"
   ]
  },
  {
   "cell_type": "code",
   "execution_count": 40,
   "metadata": {},
   "outputs": [
    {
     "name": "stdout",
     "output_type": "stream",
     "text": [
      "P(sigma <= X <= sigma) =  0.682689492137\n",
      "P(2*sigma <= X <= 2*sigma) =  0.954499736104\n",
      "P(3*sigma <= X <= 3*sigma) =  0.997300203937\n"
     ]
    }
   ],
   "source": [
    "# Note: stats.norm.pdf(x, mean, stdev)\n",
    "\n",
    "x = np.linspace(stats.norm.ppf(0.00000000001), stats.norm.ppf(0.99999999999), 100000)\n",
    "mean = 0\n",
    "sigma = 1\n",
    "pdf = stats.norm.pdf(x, mean, sigma)\n",
    "\n",
    "fig, ax = plt.subplots()\n",
    "ax.plot(x, pdf, 'b-')\n",
    "\n",
    "ax.fill_between(x, pdf, color='b', alpha=0.15)\n",
    "ax.fill_between(x, pdf, color='b', where=( x <-3*sigma), alpha=0.15)\n",
    "ax.fill_between(x, pdf, color='b', where=( x <-2*sigma), alpha=0.15)\n",
    "ax.fill_between(x, pdf, color='b', where=( x <-1*sigma), alpha=0.15)\n",
    "ax.fill_between(x, pdf, color='b', where=( x > 3*sigma), alpha=0.15)\n",
    "ax.fill_between(x, pdf, color='b', where=( x > 2*sigma), alpha=0.15)\n",
    "ax.fill_between(x, pdf, color='b', where=( x > 1*sigma), alpha=0.15)\n",
    "\n",
    "ax.set_ylim(0, 0.42)\n",
    "ax.set_xlim(-3.5, 3.5)\n",
    "\n",
    "#Hide y axis\n",
    "ax.set_yticks([])\n",
    "\n",
    "print('P(sigma <= X <= sigma) = ', stats.norm.cdf(1*sigma, mean, sigma) - stats.norm.cdf(-1*sigma, mean, sigma))\n",
    "print('P(2*sigma <= X <= 2*sigma) = ', stats.norm.cdf(2*sigma, mean, sigma) - stats.norm.cdf(-2*sigma, mean, sigma))\n",
    "print('P(3*sigma <= X <= 3*sigma) = ', stats.norm.cdf(3*sigma, mean, sigma) - stats.norm.cdf(-3*sigma, mean, sigma))"
   ]
  },
  {
   "cell_type": "markdown",
   "metadata": {},
   "source": [
    "## References\n",
    "\n",
    "* **The Data Science Design Manual**, by Steven Skiena, 2017, Springer\n",
    "* Python notebooks available at [http://data-manual.com/data](http://data-manual.com/data)\n",
    "* Lectures slides available at [http://www3.cs.stonybrook.edu/~skiena/data-manual/lectures/](http://www3.cs.stonybrook.edu/~skiena/data-manual/lectures/)\n",
    "* [Grinstead and Snell's Introduction to Probability](https://math.dartmouth.edu/~prob/prob/prob.pdf), The CHANCE Project 1 Version dated 4 July 2006\n",
    "* **Statistical Distributions**, by Catherine Forbes, Merran Evans, Nicholas Hastings, Brian Peacock, 4th Edition, 2011"
   ]
  }
 ],
 "metadata": {
  "kernelspec": {
   "display_name": "Python 3",
   "language": "python",
   "name": "python3"
  },
  "language_info": {
   "codemirror_mode": {
    "name": "ipython",
    "version": 3
   },
   "file_extension": ".py",
   "mimetype": "text/x-python",
   "name": "python",
   "nbconvert_exporter": "python",
   "pygments_lexer": "ipython3",
   "version": "3.6.2"
  }
 },
 "nbformat": 4,
 "nbformat_minor": 2
}
